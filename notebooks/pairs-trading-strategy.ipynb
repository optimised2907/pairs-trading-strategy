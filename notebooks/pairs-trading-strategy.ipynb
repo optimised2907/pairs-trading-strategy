{
 "cells": [
  {
   "cell_type": "markdown",
   "id": "33bd7ab9",
   "metadata": {},
   "source": [
    "# Pairs Trading Strategy on SPY and IVV\n",
    "\n",
    "This notebook demonstrates a pairs trading strategy based on cointegration between two ETFs: SPY and IVV.\n",
    "\n",
    "We will:\n",
    "\n",
    "- Download historical price data\n",
    "- Test for cointegration using the Johansen test\n",
    "- Calculate the spread and z-score\n",
    "- Implement entry and exit signals based on the spread's z-score\n",
    "- Track portfolio value and evaluate performance metrics\n"
   ]
  },
  {
   "cell_type": "markdown",
   "id": "077e5f8d",
   "metadata": {},
   "source": [
    "## Parameters and Setup\n",
    "\n",
    "- Training period: 2012-01-01 to 2019-01-01  \n",
    "- Testing period: 2019-01-01 to 2023-01-01  \n",
    "- Stocks: SPY and IVV  \n",
    "- Capital: $1,000,000  \n",
    "- Entry z-score threshold: 1.0  \n",
    "- Exit z-score threshold: 0.5  \n",
    "- Transaction cost: $0.01 per share traded\n"
   ]
  },
  {
   "cell_type": "code",
   "execution_count": 22,
   "id": "21fdb904",
   "metadata": {},
   "outputs": [],
   "source": [
    "# Params\n",
    "train_start, train_end = '2012-01-01', '2019-01-01'\n",
    "test_start, test_end = '2019-01-01', '2023-01-01'\n",
    "stock1, stock2 = 'SPY', 'IVV'\n",
    "capital = 1_000_000\n",
    "entry_z = 1.0\n",
    "exit_z = 0.5\n",
    "transaction_cost_per_share = 0.01  # assume 1 cent per share per trade\n"
   ]
  },
  {
   "cell_type": "markdown",
   "id": "9b6c1513",
   "metadata": {},
   "source": [
    "## Downloading Price Data\n",
    "\n",
    "We use `yfinance` to download adjusted close prices for SPY and IVV in the specified train and test periods.\n"
   ]
  },
  {
   "cell_type": "code",
   "execution_count": 23,
   "id": "13ca75ef",
   "metadata": {},
   "outputs": [
    {
     "name": "stderr",
     "output_type": "stream",
     "text": [
      "[*********************100%***********************]  1 of 1 completed\n",
      "[*********************100%***********************]  1 of 1 completed\n",
      "[*********************100%***********************]  1 of 1 completed\n",
      "[*********************100%***********************]  1 of 1 completed\n"
     ]
    }
   ],
   "source": [
    "def download_data(ticker, start, end):\n",
    "    return yf.download(ticker, start=start, end=end, auto_adjust=True)['Close']\n",
    "\n",
    "train1 = download_data(stock1, train_start, train_end)\n",
    "train2 = download_data(stock2, train_start, train_end)\n",
    "test1 = download_data(stock1, test_start, test_end)\n",
    "test2 = download_data(stock2, test_start, test_end)\n",
    "\n",
    "train = pd.concat([train1, train2], axis=1).dropna()\n",
    "test = pd.concat([test1, test2], axis=1).dropna()\n",
    "train.columns = test.columns = [stock1, stock2]\n"
   ]
  },
  {
   "cell_type": "markdown",
   "id": "f2b4aa15",
   "metadata": {},
   "source": [
    "## Cointegration Test\n",
    "\n",
    "We perform the Johansen cointegration test on the log prices to confirm that SPY and IVV have a stable long-term relationship.\n",
    "\n",
    "If cointegration is detected, we calculate the hedge ratio from the eigenvector.\n"
   ]
  },
  {
   "cell_type": "code",
   "execution_count": 24,
   "id": "d23d1747",
   "metadata": {},
   "outputs": [
    {
     "name": "stdout",
     "output_type": "stream",
     "text": [
      "Cointegration CONFIRMED | Hedge Ratio: -0.9958\n"
     ]
    }
   ],
   "source": [
    "log_prices = np.log(train)\n",
    "johansen_test = coint_johansen(log_prices, det_order=0, k_ar_diff=1)\n",
    "\n",
    "if johansen_test.lr1[0] > johansen_test.cvt[0, 1]:\n",
    "    hedge_ratio = johansen_test.evec[0,0] / johansen_test.evec[1,0]\n",
    "    print(f\"Cointegration CONFIRMED | Hedge Ratio: {hedge_ratio:.4f}\")\n",
    "else:\n",
    "    raise Exception(\"No cointegration detected\")\n"
   ]
  },
  {
   "cell_type": "markdown",
   "id": "92d3404a",
   "metadata": {},
   "source": [
    "## Calculate Spread and Z-score on Training Data\n",
    "\n",
    "The spread is defined as:\n",
    "\n",
    "\\[\n",
    "\\text{Spread} = \\text{Price}_\\text{SPY} - \\text{Hedge Ratio} \\times \\text{Price}_\\text{IVV}\n",
    "\\]\n",
    "\n",
    "We calculate the rolling mean and standard deviation of the spread over a 21-day window, then compute the z-score.\n"
   ]
  },
  {
   "cell_type": "code",
   "execution_count": 25,
   "id": "8743198e",
   "metadata": {},
   "outputs": [],
   "source": [
    "window = 21\n",
    "train['Spread'] = train[stock1] - hedge_ratio * train[stock2]\n",
    "train['Mean'] = train['Spread'].rolling(window).mean()\n",
    "train['Std'] = train['Spread'].rolling(window).std()\n",
    "train['Z'] = (train['Spread'] - train['Mean']) / train['Std']\n"
   ]
  },
  {
   "cell_type": "markdown",
   "id": "6687fcb6",
   "metadata": {},
   "source": [
    "## Apply Spread and Z-score Calculation to Test Data\n",
    "\n",
    "For the test period, we apply the spread calculation and use the last rolling mean and standard deviation from the training period to compute z-scores.\n"
   ]
  },
  {
   "cell_type": "code",
   "execution_count": 26,
   "id": "16f2f22f",
   "metadata": {},
   "outputs": [],
   "source": [
    "mean_spread = train['Mean'].iloc[-1]\n",
    "std_spread = train['Std'].iloc[-1]\n",
    "\n",
    "test['Spread'] = test[stock1] - hedge_ratio * test[stock2]\n",
    "test['Z'] = (test['Spread'] - mean_spread) / std_spread\n"
   ]
  },
  {
   "cell_type": "markdown",
   "id": "7d7bab6b",
   "metadata": {},
   "source": [
    "## Trading Logic\n",
    "\n",
    "We define positions as:\n",
    "\n",
    "- `1` : Long spread (long SPY, short IVV)\n",
    "- `-1`: Short spread (short SPY, long IVV)\n",
    "- `0` : No position\n",
    "\n",
    "**Entry Rules:**\n",
    "\n",
    "- Enter a short spread when z-score crosses below +1.0 from above\n",
    "- Enter a long spread when z-score crosses above -1.0 from below\n",
    "\n",
    "**Exit Rules:**\n",
    "\n",
    "- Exit long spread when z-score crosses above -0.5\n",
    "- Exit short spread when z-score crosses below +0.5\n",
    "\n",
    "Transaction costs are subtracted at entry and exit.\n"
   ]
  },
  {
   "cell_type": "code",
   "execution_count": 28,
   "id": "0f29e083",
   "metadata": {},
   "outputs": [],
   "source": [
    "position = 0  # 1 = long spread, -1 = short spread, 0 = flat\n",
    "positions_stock1 = 0\n",
    "positions_stock2 = 0\n",
    "cash = capital\n",
    "portfolio_values = []\n",
    "trade_log = []\n",
    "entry_date = None\n",
    "entry_price_stock1 = None\n",
    "entry_price_stock2 = None\n",
    "\n",
    "for i in range(1, len(test)):\n",
    "    date = test.index[i]\n",
    "    z = test['Z'].iloc[i]\n",
    "    prev_z = test['Z'].iloc[i-1]\n",
    "    price1 = test[stock1].iloc[i]\n",
    "    price2 = test[stock2].iloc[i]\n",
    "\n",
    "    # Entry conditions\n",
    "    if position == 0:\n",
    "        if prev_z > entry_z and z <= entry_z:\n",
    "            # Short spread: short stock1, long stock2\n",
    "            shares1 = int((capital/2) / price1)\n",
    "            shares2 = int((capital/2) / price2)\n",
    "            position = -1\n",
    "            positions_stock1 = -shares1\n",
    "            positions_stock2 = shares2\n",
    "            entry_date = date\n",
    "            entry_price_stock1 = price1\n",
    "            entry_price_stock2 = price2\n",
    "            cost = (shares1 + shares2) * transaction_cost_per_share\n",
    "            cash -= cost\n",
    "            trade_log.append((entry_date, None, 'Short', shares1, shares2, cost))\n",
    "        elif prev_z < -entry_z and z >= -entry_z:\n",
    "            # Long spread: long stock1, short stock2\n",
    "            shares1 = int((capital/2) / price1)\n",
    "            shares2 = int((capital/2) / price2)\n",
    "            position = 1\n",
    "            positions_stock1 = shares1\n",
    "            positions_stock2 = -shares2\n",
    "            entry_date = date\n",
    "            entry_price_stock1 = price1\n",
    "            entry_price_stock2 = price2\n",
    "            cost = (shares1 + shares2) * transaction_cost_per_share\n",
    "            cash -= cost\n",
    "            trade_log.append((entry_date, None, 'Long', shares1, shares2, cost))\n",
    "\n",
    "    # Exit conditions\n",
    "    elif position == 1 and z >= -exit_z:\n",
    "        exit_date = date\n",
    "        exit_price_stock1 = price1\n",
    "        exit_price_stock2 = price2\n",
    "        pnl = (exit_price_stock1 - entry_price_stock1) * positions_stock1 + \\\n",
    "              (entry_price_stock2 - exit_price_stock2) * (-positions_stock2)\n",
    "        cost = (abs(positions_stock1) + abs(positions_stock2)) * transaction_cost_per_share\n",
    "        cash += pnl - cost\n",
    "        trade_log[-1] = trade_log[-1][:-1] + (exit_date, pnl, cost)\n",
    "        position = 0\n",
    "        positions_stock1 = 0\n",
    "        positions_stock2 = 0\n",
    "\n",
    "    elif position == -1 and z <= exit_z:\n",
    "        exit_date = date\n",
    "        exit_price_stock1 = price1\n",
    "        exit_price_stock2 = price2\n",
    "        pnl = (entry_price_stock1 - exit_price_stock1) * (-positions_stock1) + \\\n",
    "              (exit_price_stock2 - entry_price_stock2) * positions_stock2\n",
    "        cost = (abs(positions_stock1) + abs(positions_stock2)) * transaction_cost_per_share\n",
    "        cash += pnl - cost\n",
    "        trade_log[-1] = trade_log[-1][:-1] + (exit_date, pnl, cost)\n",
    "        position = 0\n",
    "        positions_stock1 = 0\n",
    "        positions_stock2 = 0\n",
    "\n",
    "    # Portfolio value = cash + market value of open positions\n",
    "    market_value = cash + positions_stock1 * price1 + positions_stock2 * price2\n",
    "    portfolio_values.append((date, market_value))\n"
   ]
  },
  {
   "cell_type": "markdown",
   "id": "83cf1e52",
   "metadata": {},
   "source": [
    "## Portfolio Performance\n",
    "\n",
    "We calculate the portfolio's daily returns, Sharpe ratio, maximum drawdown, and win rate.\n"
   ]
  },
  {
   "cell_type": "code",
   "execution_count": 29,
   "id": "03517243",
   "metadata": {},
   "outputs": [
    {
     "name": "stdout",
     "output_type": "stream",
     "text": [
      "Sharpe Ratio: 0.24\n",
      "Max Drawdown: -0.36%\n",
      "Win Rate: 66.67%\n"
     ]
    }
   ],
   "source": [
    "pf_df = pd.DataFrame(portfolio_values, columns=['Date', 'PortfolioValue']).set_index('Date')\n",
    "pf_df['Returns'] = pf_df['PortfolioValue'].pct_change().fillna(0)\n",
    "\n",
    "sharpe = np.sqrt(252) * pf_df['Returns'].mean() / pf_df['Returns'].std() if pf_df['Returns'].std() > 0 else 0\n",
    "drawdown = (pf_df['PortfolioValue'] - pf_df['PortfolioValue'].cummax()) / pf_df['PortfolioValue'].cummax()\n",
    "max_dd = drawdown.min()\n",
    "\n",
    "wins = [trade[6] for trade in trade_log if trade[6] is not None and trade[6] > 0]\n",
    "win_rate = len(wins) / len([trade for trade in trade_log if trade[6] is not None]) if trade_log else 0\n",
    "\n",
    "print(f\"Sharpe Ratio: {sharpe:.2f}\")\n",
    "print(f\"Max Drawdown: {max_dd:.2%}\")\n",
    "print(f\"Win Rate: {win_rate:.2%}\")\n"
   ]
  },
  {
   "cell_type": "markdown",
   "id": "4ac8201f",
   "metadata": {},
   "source": [
    "## Plot Portfolio Value\n",
    "\n",
    "Visualize the portfolio value over the test period.\n"
   ]
  },
  {
   "cell_type": "code",
   "execution_count": 30,
   "id": "56987f96",
   "metadata": {},
   "outputs": [
    {
     "data": {
      "image/png": "[encoded data removed]",
      "text/plain": [
       "<Figure size 1400x700 with 1 Axes>"
      ]
     },
     "metadata": {},
     "output_type": "display_data"
    }
   ],
   "source": [
    "plt.figure(figsize=(14, 7))\n",
    "plt.plot(pf_df.index, pf_df['PortfolioValue'], label='Portfolio Value')\n",
    "plt.title(\"Pairs Trading Portfolio Value\")\n",
    "plt.xlabel(\"Date\")\n",
    "plt.ylabel(\"Portfolio Value ($)\")\n",
    "plt.legend()\n",
    "plt.show()\n"
   ]
  }
 ],
 "metadata": {
  "kernelspec": {
   "display_name": "base",
   "language": "python",
   "name": "python3"
  },
  "language_info": {
   "codemirror_mode": {
    "name": "ipython",
    "version": 3
   },
   "file_extension": ".py",
   "mimetype": "text/x-python",
   "name": "python",
   "nbconvert_exporter": "python",
   "pygments_lexer": "ipython3",
   "version": "3.12.4"
  }
 },
 "nbformat": 4,
 "nbformat_minor": 5
}
